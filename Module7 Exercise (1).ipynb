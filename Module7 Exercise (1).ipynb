{
 "cells": [
  {
   "cell_type": "markdown",
   "metadata": {},
   "source": [
    "### Exercise 1\n",
    "Ask a user for 5 names and place each one in to a list called <i>names</i>. Then, print <i>names</i>."
   ]
  },
  {
   "cell_type": "code",
   "execution_count": 1,
   "metadata": {},
   "outputs": [
    {
     "name": "stdout",
     "output_type": "stream",
     "text": [
      "enter name1 selam\n",
      "enter name2 paola\n",
      "enter name3 ze\n",
      "enter name4 nafi\n",
      "enter name5 weyni\n",
      "enter place1 addis\n",
      "enter place2 DC\n",
      "enter place3 wheaton\n",
      "enter place4 silverspring\n",
      "enetr place5 rockiville\n",
      "['selam', 'paola', 'ze', 'nafi', 'weyni', 'addis', 'DC', 'wheaton', 'silverspring', 'rockiville']\n"
     ]
    }
   ],
   "source": [
    "name1 = input(\"enter name1 \")\n",
    "name2 = input(\"enter name2 \")\n",
    "name3 = input(\"enter name3 \")\n",
    "name4 = input(\"enter name4 \")\n",
    "name5 =input(\"enter name5 \")\n",
    "place1 = input(\"enter place1 \")\n",
    "place2 = input(\"enter place2 \")\n",
    "place3 = input(\"enter place3 \")\n",
    "place4 = input(\"enter place4 \")\n",
    "place5 = input(\"enetr place5 \")\n",
    "names = [name1,name2,name3,name4,name5,place1,place2,place3,place4,place5]\n",
    "print(names)"
   ]
  },
  {
   "cell_type": "markdown",
   "metadata": {},
   "source": [
    "### Exercise 2\n",
    "Print out a randomly selected name in the names list from exercise 1."
   ]
  },
  {
   "cell_type": "code",
   "execution_count": 2,
   "metadata": {},
   "outputs": [
    {
     "data": {
      "text/plain": [
       "['ze', 'nafi', 'weyni']"
      ]
     },
     "execution_count": 2,
     "metadata": {},
     "output_type": "execute_result"
    }
   ],
   "source": [
    "names[2:5:1]"
   ]
  },
  {
   "cell_type": "markdown",
   "metadata": {},
   "source": [
    "### Exercise 3: \n",
    "Fix bugs in the next cell.  It is trying to create a list for even numbers between two numbers provided by a user.\n"
   ]
  },
  {
   "cell_type": "code",
   "execution_count": null,
   "metadata": {},
   "outputs": [],
   "source": []
  },
  {
   "cell_type": "code",
   "execution_count": 3,
   "metadata": {},
   "outputs": [
    {
     "name": "stdout",
     "output_type": "stream",
     "text": [
      "Enter a starting number: 1\n",
      "Enter an ending number: 20\n",
      "2 4 6 8 10 12 14 16 18 "
     ]
    }
   ],
   "source": [
    "no1 = int(input(\"Enter a starting number: \"))\n",
    "no2 = int(input(\"Enter an ending number: \"))\n",
    "\n",
    "\n",
    "for num in range(no1, no2) :\n",
    "    if (num %2 == 0):  # even number\n",
    "        print(num ,end = \" \")\n",
    "    \n"
   ]
  },
  {
   "cell_type": "markdown",
   "metadata": {},
   "source": [
    "### Exercise 4\n",
    "Finish writing a program to generate 10 random numbers between 1 and 100 and save it to a list.\n",
    "Finally, print out the original numbers followed by the smallest, largest, and average number."
   ]
  },
  {
   "cell_type": "code",
   "execution_count": null,
   "metadata": {},
   "outputs": [],
   "source": [
    "import random as rand\n",
    "\n",
    "for item in range(1, 100) :\n",
    "    total += item\n",
    "    numb2 = sorted(item)\n",
    "    numbers.append(numb)\n",
    "    largest = max()\n",
    "    smallest = min()\n",
    "    avg = total/numb\n",
    "\n",
    "    \n",
    "# some code needed here to find the smallest, largest, and average number\n",
    "\n",
    "print(f\"Org numbers are {numbers}\")\n",
    "print(f\"Sorted numbers are {numb2}\")\n",
    "print(f\"Largest number is {largest}\")\n",
    "print(f\"Smallest number is {smallest}\")\n",
    "print(f\"Average is {avg}\")"
   ]
  },
  {
   "cell_type": "markdown",
   "metadata": {},
   "source": [
    "### Exercise 5\n",
    "\n",
    "Write a function called <b>draw_triangle()</b> to draw a right triangle where the base of the triangle is the number passed in as an arguement. Call <b>draw_triangle()</b> to show it works.\n",
    "\n",
    "e.g. <b>draw_triangle(7)</b> draws as below:\n",
    "\n",
    "    *\n",
    "    **\n",
    "    ***\n",
    "    ****\n",
    "    *****\n",
    "    ******\n",
    "    *******\n"
   ]
  },
  {
   "cell_type": "code",
   "execution_count": 4,
   "metadata": {},
   "outputs": [
    {
     "name": "stdout",
     "output_type": "stream",
     "text": [
      "Enter a character:\n",
      "*\n",
      "Enter triangle height:\n",
      "7\n",
      "*\n",
      "**\n",
      "***\n",
      "****\n",
      "*****\n",
      "******\n",
      "*******\n"
     ]
    }
   ],
   "source": [
    "# write code for draw_triangle() function\n",
    "\n",
    "triangle_char = input('Enter a character:\\n')\n",
    "triangle_height = int(input('Enter triangle height:\\n'))\n",
    "\n",
    "for j in range (triangle_height):\n",
    "    print((triangle_char) * (j+1) )\n",
    "    triangle_height += 1\n",
    "\n",
    "\n"
   ]
  },
  {
   "cell_type": "code",
   "execution_count": null,
   "metadata": {},
   "outputs": [],
   "source": []
  }
 ],
 "metadata": {
  "kernelspec": {
   "display_name": "Python 3",
   "language": "python",
   "name": "python3"
  },
  "language_info": {
   "codemirror_mode": {
    "name": "ipython",
    "version": 3
   },
   "file_extension": ".py",
   "mimetype": "text/x-python",
   "name": "python",
   "nbconvert_exporter": "python",
   "pygments_lexer": "ipython3",
   "version": "3.8.8"
  }
 },
 "nbformat": 4,
 "nbformat_minor": 4
}
